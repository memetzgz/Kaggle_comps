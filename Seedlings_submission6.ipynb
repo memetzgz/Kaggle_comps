{
  "cells": [
    {
      "cell_type": "markdown",
      "source": [
        "## Seedlings Identification Challenge on Kaggle"
      ],
      "metadata": {}
    },
    {
      "cell_type": "code",
      "source": [
        "%reload_ext autoreload\n",
        "%autoreload 2\n",
        "%matplotlib inline"
      ],
      "outputs": [],
      "execution_count": 2,
      "metadata": {}
    },
    {
      "cell_type": "code",
      "source": [
        "from fastai.imports import *\n",
        "from fastai.transforms import *\n",
        "from fastai.conv_learner import *\n",
        "from fastai.model import *\n",
        "from fastai.dataset import *\n",
        "from fastai.sgdr import *\n",
        "from fastai.plots import *"
      ],
      "outputs": [],
      "execution_count": 3,
      "metadata": {}
    },
    {
      "cell_type": "code",
      "source": [
        "import os\n",
        "import random\n",
        "import shutil"
      ],
      "outputs": [],
      "execution_count": 4,
      "metadata": {}
    },
    {
      "cell_type": "code",
      "source": [
        "!jupyter nbextension enable --py widgetsnbextension"
      ],
      "outputs": [],
      "execution_count": 5,
      "metadata": {}
    },
    {
      "cell_type": "code",
      "source": [
        "!ls -l"
      ],
      "outputs": [],
      "execution_count": 6,
      "metadata": {}
    },
    {
      "cell_type": "code",
      "source": [
        "PATH = \"data/\"\n",
        "#path = \"data/sample/\""
      ],
      "outputs": [],
      "execution_count": 7,
      "metadata": {}
    },
    {
      "cell_type": "code",
      "source": [
        "directories = os.listdir(PATH+ 'train')\n",
        "print(directories)"
      ],
      "outputs": [],
      "execution_count": 8,
      "metadata": {}
    },
    {
      "cell_type": "code",
      "source": [
        "os.listdir(PATH)"
      ],
      "outputs": [],
      "execution_count": 9,
      "metadata": {}
    },
    {
      "cell_type": "markdown",
      "source": [
        "## Skip this part once initial directories have been populated"
      ],
      "metadata": {
        "heading_collapsed": true
      }
    },
    {
      "cell_type": "code",
      "source": [
        "#intial downloaded data was split into one directory per class,\n",
        "#so keeping that arrangement here. Another option would have been\n",
        "#to create a CSV file so could load from file instead of from path; \n",
        "#generally seems path is easier at end when forming submission file.\n",
        "for dir in directories :\n",
        "    os.makedirs('data/valid/'+dir, exist_ok=True)"
      ],
      "outputs": [],
      "execution_count": null,
      "metadata": {
        "hidden": true
      }
    },
    {
      "cell_type": "code",
      "source": [
        "#import glob\n",
        "#def get_1st(path): return glob(f'{path}/*.*')[0]\n",
        "#get_1st(path)"
      ],
      "outputs": [],
      "execution_count": null,
      "metadata": {
        "hidden": true
      }
    },
    {
      "cell_type": "code",
      "source": [
        "_,dirs,_ = next(os.walk(PATH+'train'))\n",
        "print(dirs)"
      ],
      "outputs": [],
      "execution_count": null,
      "metadata": {
        "hidden": true
      }
    },
    {
      "cell_type": "code",
      "source": [
        "def create_valid_folder(_from, to, percentage=0.1, move=True):\n",
        "    _, folders, _ = next(os.walk(_from))\n",
        "    for folder in folders:\n",
        "        if not os.path.exists(os.path.join(to, folder)):\n",
        "            os.makedirs(os.path.join(to, folder))\n",
        "        _, _, files = next(os.walk(os.path.join(_from, folder)))\n",
        "        sample = random.sample(files, int(len(files) * percentage))\n",
        "        for filename in sample:\n",
        "            if move:\n",
        "                shutil.move(os.path.join(_from, folder, filename), os.path.join(to, folder, filename))\n",
        "            else:\n",
        "                shutil.copyfile(os.path.join(_from, folder, filename), os.path.join(to, folder, filename))\n",
        "\n"
      ],
      "outputs": [],
      "execution_count": null,
      "metadata": {
        "hidden": true
      }
    },
    {
      "cell_type": "code",
      "source": [
        "create_valid_folder(PATH+'train',PATH+'valid', percentage=0.2, move=True)"
      ],
      "outputs": [],
      "execution_count": null,
      "metadata": {
        "hidden": true
      }
    },
    {
      "cell_type": "code",
      "source": [
        "create_valid_folder(PATH+'train',PATH+'sample', percentage = 0.1, move=True)"
      ],
      "outputs": [],
      "execution_count": null,
      "metadata": {
        "hidden": true
      }
    },
    {
      "cell_type": "code",
      "source": [
        "os.makedirs('data/models', exist_ok=True)"
      ],
      "outputs": [],
      "execution_count": null,
      "metadata": {
        "hidden": true
      }
    },
    {
      "cell_type": "code",
      "source": [
        "!ls {PATH+'valid'}"
      ],
      "outputs": [],
      "execution_count": null,
      "metadata": {
        "hidden": true
      }
    },
    {
      "cell_type": "markdown",
      "source": [
        "## Start from here when re-starting notebook"
      ],
      "metadata": {}
    },
    {
      "cell_type": "code",
      "source": [
        "def get_1st(path): return glob(f'{path}/*.*')[0]"
      ],
      "outputs": [],
      "execution_count": 12,
      "metadata": {}
    },
    {
      "cell_type": "code",
      "source": [
        "get_1st(PATH+'train/Cleavers')"
      ],
      "outputs": [],
      "execution_count": 13,
      "metadata": {}
    },
    {
      "cell_type": "code",
      "source": [
        "list_paths = [get_1st(PATH+'train/Cleavers'), get_1st(PATH+'train/Charlock'),get_1st(PATH+'train/Maize')]\n",
        "plots_from_files(list_paths, titles=[\"Cleaver\", \"Charlock\",\"Maize\"], maintitle=\"Single-label classification\")"
      ],
      "outputs": [],
      "execution_count": 14,
      "metadata": {}
    },
    {
      "cell_type": "code",
      "source": [
        "img = plt.imread(list_paths[1])\n",
        "img.shape"
      ],
      "outputs": [],
      "execution_count": 15,
      "metadata": {}
    },
    {
      "cell_type": "code",
      "source": [
        "#import notebook/model specific packages and metrics here\n",
        "#sklearn.metrics.f1_score\n",
        "#(y_true, y_pred, labels=None, pos_label=1, average=’binary’, sample_weight=None)\n",
        "from sklearn.metrics import f1_score\n",
        "#from planet import f2"
      ],
      "outputs": [],
      "execution_count": 16,
      "metadata": {}
    },
    {
      "cell_type": "code",
      "source": [
        "metrics=[f1_score] #adding appropriate metric here\n",
        "sz=128 # starting off with 128 by 128 here, but could start with 64\n",
        "f_model = resnet50 #specifying model here"
      ],
      "outputs": [],
      "execution_count": 17,
      "metadata": {}
    },
    {
      "cell_type": "code",
      "source": [
        "#this is the dataloader.  Specify appropriate transforms, size of images, and zoom.\n",
        "#also, make sure the path, training set directory, label filename, and test directory are set.\n",
        "def get_data(sz):\n",
        "    tfms = tfms_from_model(f_model, sz, aug_tfms=transforms_top_down, max_zoom=1.05)\n",
        "    return ImageClassifierData.from_paths(PATH, tfms=tfms, test_name='test')"
      ],
      "outputs": [],
      "execution_count": 18,
      "metadata": {}
    },
    {
      "cell_type": "code",
      "source": [
        "data = get_data(sz)\n",
        "data = data.resize(int(sz*1.3), 'tmp')"
      ],
      "outputs": [],
      "execution_count": 19,
      "metadata": {}
    },
    {
      "cell_type": "code",
      "source": [
        "#Okay, let's do transfer learning!  This uses pre-trained model weights\n",
        "#here precompute=True by default, actually \n",
        "\nlearn = ConvLearner.pretrained(f_model, data, precompute=True)"
      ],
      "outputs": [],
      "execution_count": null,
      "metadata": {}
    },
    {
      "cell_type": "code",
      "source": [
        "#Find learning rate\n",
        "lrf=learn.lr_find()\n",
        "learn.sched.plot()"
      ],
      "outputs": [],
      "execution_count": 20,
      "metadata": {}
    },
    {
      "cell_type": "code",
      "source": [
        "lr = 2*10e-2 #substituting the rate determined from the finder above"
      ],
      "outputs": [],
      "execution_count": 21,
      "metadata": {}
    },
    {
      "cell_type": "code",
      "source": [
        "learn.fit(lr, 3) #here's a nice start"
      ],
      "outputs": [],
      "execution_count": 22,
      "metadata": {}
    },
    {
      "cell_type": "code",
      "source": [
        "learn.fit(lr, 3) #round 2"
      ],
      "outputs": [],
      "execution_count": 23,
      "metadata": {}
    },
    {
      "cell_type": "code",
      "source": [
        "#first round or two of training, freeze the layers so not recomputing all your activations\n",
        "learn.freeze()\n",
        "learn.fit(lr, 3, cycle_len=1, cycle_mult=2, cycle_save_name='resnet50_128')\n",
        "#cycle_save_name is nice, it will save intermediate parameter results\n",
        "#in case of problems, or in case want to average or something"
      ],
      "outputs": [],
      "execution_count": 24,
      "metadata": {}
    },
    {
      "cell_type": "code",
      "source": [
        "lrs = np.array([lr/9,lr/3,lr])  # we don't want to fool too much with the pre-trained\n",
        "#parameters, so we make the learning rate really small for the earlier layers"
      ],
      "outputs": [],
      "execution_count": 25,
      "metadata": {}
    },
    {
      "cell_type": "code",
      "source": [
        "precompute = False  #convolutional layer activations will no longer be precomputed (and therefore fixed)"
      ],
      "outputs": [],
      "execution_count": 26,
      "metadata": {}
    },
    {
      "cell_type": "code",
      "source": [
        "#this will take a long time :)\n",
        "learn.unfreeze()\n",
        "learn.fit(lrs, 3, wds=0.001, cycle_len=1, cycle_mult=2, cycle_save_name='resnet50_128') #replace name as needed\n",
        "#learn.sched.plot_lr()  -- can be fun to see how learning rate changes\n",
        "learn.save(f'{sz}')"
      ],
      "outputs": [],
      "execution_count": 27,
      "metadata": {}
    },
    {
      "cell_type": "code",
      "source": [
        "learn.load('128')  "
      ],
      "outputs": [],
      "execution_count": 28,
      "metadata": {}
    },
    {
      "cell_type": "code",
      "source": [
        "## switching to Adam instead of SGD\n",
        "import torch.optim as optim\n",
        "learn = ConvLearner.pretrained(f_model, data, precompute=False, opt_fn=optim.Adam)\n",
        "lr = 0.01\n",
        "wd = 0.025\n",
        "learn.fit(lrs=[lr/100, lr/10,lr], n_cycle=3, wds=[wd/100, wd/10, wd], use_wd_sched=True, cycle_len=1, cycle_mult=2)"
      ],
      "outputs": [],
      "execution_count": 29,
      "metadata": {}
    },
    {
      "cell_type": "code",
      "source": [
        "learn.sched.plot_lr()"
      ],
      "outputs": [],
      "execution_count": 30,
      "metadata": {}
    },
    {
      "cell_type": "code",
      "source": [
        "sz=224  #time to up the image size"
      ],
      "outputs": [],
      "execution_count": 31,
      "metadata": {}
    },
    {
      "cell_type": "code",
      "source": [
        "data=get_data(sz)\n",
        "data=data.resize(int(sz*1.3), 'tmp')"
      ],
      "outputs": [],
      "execution_count": 32,
      "metadata": {}
    },
    {
      "cell_type": "code",
      "source": [
        "learn.set_data(data)"
      ],
      "outputs": [],
      "execution_count": 33,
      "metadata": {
        "scrolled": true
      }
    },
    {
      "cell_type": "code",
      "source": [
        "learn = ConvLearner.pretrained(f_model, data, precompute=False, opt_fn=optim.Adam)"
      ],
      "outputs": [],
      "execution_count": 34,
      "metadata": {}
    },
    {
      "cell_type": "code",
      "source": [
        "lrf=learn.lr_find()\n",
        "learn.sched.plot()"
      ],
      "outputs": [],
      "execution_count": 35,
      "metadata": {}
    },
    {
      "cell_type": "code",
      "source": [
        "lr = .005"
      ],
      "outputs": [],
      "execution_count": 36,
      "metadata": {}
    },
    {
      "cell_type": "code",
      "source": [
        "learn.freeze()\n",
        "learn.fit(lr, 3, cycle_len=1, cycle_mult=2, cycle_save_name='resnet50_224')"
      ],
      "outputs": [],
      "execution_count": 37,
      "metadata": {}
    },
    {
      "cell_type": "code",
      "source": [
        "lrf=learn.lr_find()\n",
        "learn.sched.plot()"
      ],
      "outputs": [],
      "execution_count": 38,
      "metadata": {}
    },
    {
      "cell_type": "code",
      "source": [
        "lr = 0.005\n",
        "wd = 0.025\n",
        "learn.fit(lrs=[lr/100, lr/10,lr], n_cycle=3, wds=[wd/100, wd/10, wd], use_wd_sched=True, cycle_len=1, cycle_mult=2,cycle_save_name='resnet50_224_a' )"
      ],
      "outputs": [],
      "execution_count": 39,
      "metadata": {}
    },
    {
      "cell_type": "code",
      "source": [
        "learn.unfreeze()"
      ],
      "outputs": [],
      "execution_count": 40,
      "metadata": {}
    },
    {
      "cell_type": "code",
      "source": [
        "lr = 0.003\n",
        "wd = 0.025\n",
        "learn.fit(lrs=[lr/100, lr/10,lr], n_cycle=3, wds=[wd/100, wd/10, wd], use_wd_sched=True, cycle_len=1, cycle_mult=2,cycle_save_name='resnet50_224_b' )"
      ],
      "outputs": [],
      "execution_count": 41,
      "metadata": {}
    },
    {
      "cell_type": "code",
      "source": [
        "learn.save('224')"
      ],
      "outputs": [],
      "execution_count": 42,
      "metadata": {}
    },
    {
      "cell_type": "code",
      "source": [
        "learn.load('224')"
      ],
      "outputs": [],
      "execution_count": 50,
      "metadata": {}
    },
    {
      "cell_type": "code",
      "source": [
        "sz=299  #upping size one more time \n",
        "data=get_data(sz)"
      ],
      "outputs": [],
      "execution_count": 51,
      "metadata": {}
    },
    {
      "cell_type": "code",
      "source": [
        "learn.set_data(data)"
      ],
      "outputs": [],
      "execution_count": 52,
      "metadata": {}
    },
    {
      "cell_type": "code",
      "source": [
        "lrf=learn.lr_find()\n",
        "learn.sched.plot()"
      ],
      "outputs": [],
      "execution_count": 53,
      "metadata": {}
    },
    {
      "cell_type": "code",
      "source": [
        "lr=0.0002"
      ],
      "outputs": [],
      "execution_count": 54,
      "metadata": {}
    },
    {
      "cell_type": "code",
      "source": [
        "learn.freeze()\n",
        "learn.fit(lr, 3, cycle_len=1, cycle_mult=2, cycle_save_name='resnet50_299_pre')"
      ],
      "outputs": [],
      "execution_count": 55,
      "metadata": {}
    },
    {
      "cell_type": "code",
      "source": [
        "learn.save('299_pre')"
      ],
      "outputs": [],
      "execution_count": 56,
      "metadata": {}
    },
    {
      "cell_type": "code",
      "source": [
        "learn.load('299_pre')"
      ],
      "outputs": [],
      "execution_count": 57,
      "metadata": {}
    },
    {
      "cell_type": "code",
      "source": [
        "learn.unfreeze()\n",
        "lr = 0.005\n",
        "wd = 0.025\n",
        "learn.fit(lrs=[lr/100, lr/10,lr], n_cycle=3, wds=[wd/100, wd/10, wd], use_wd_sched=True, cycle_len=1, cycle_mult=2,cycle_save_name='resnet50_299' )"
      ],
      "outputs": [],
      "execution_count": 58,
      "metadata": {}
    },
    {
      "cell_type": "code",
      "source": [
        "learn.save('299')"
      ],
      "outputs": [],
      "execution_count": 59,
      "metadata": {}
    },
    {
      "cell_type": "code",
      "source": [
        "lrf=learn.lr_find()\n",
        "learn.sched.plot()"
      ],
      "outputs": [],
      "execution_count": null,
      "metadata": {}
    },
    {
      "cell_type": "code",
      "source": [
        "lr = 0.0001\n",
        "wd = 0.025\n",
        "learn.fit(lrs=[lr/100, lr/10,lr], n_cycle=3, wds=[wd/100, wd/10, wd], use_wd_sched=True, cycle_len=1, cycle_mult=2,cycle_save_name='resnet50_299_a' )"
      ],
      "outputs": [],
      "execution_count": null,
      "metadata": {}
    },
    {
      "cell_type": "code",
      "source": [
        "lr = 0.00001\n",
        "lrf=learn.lr_find()\n",
        "learn.sched.plot()"
      ],
      "outputs": [],
      "execution_count": null,
      "metadata": {}
    },
    {
      "cell_type": "code",
      "source": [
        "lr=0.0001"
      ],
      "outputs": [],
      "execution_count": null,
      "metadata": {}
    },
    {
      "cell_type": "code",
      "source": [
        "wd = 0.03  # experimenting with different weight decay\n",
        "learn.fit(lrs=[lr/100, lr/10,lr], n_cycle=3, wds=[wd/100, wd/10, wd], use_wd_sched=True, cycle_len=1, cycle_mult=2,cycle_save_name='resnet50_299_b')"
      ],
      "outputs": [],
      "execution_count": null,
      "metadata": {}
    },
    {
      "cell_type": "code",
      "source": [
        "lr=0.0001\n",
        "wd = 0.025\n",
        "learn.fit(lrs=[lr/100, lr/10,lr], n_cycle=1, wds=[wd/100, wd/10, wd], use_wd_sched=True, cycle_len=1, cycle_mult=2,cycle_save_name='resnet50_299_a' )"
      ],
      "outputs": [],
      "execution_count": null,
      "metadata": {}
    },
    {
      "cell_type": "code",
      "source": [
        "learn.save('299')"
      ],
      "outputs": [],
      "execution_count": null,
      "metadata": {}
    },
    {
      "cell_type": "code",
      "source": [
        "learn.load('299')"
      ],
      "outputs": [],
      "execution_count": null,
      "metadata": {}
    },
    {
      "cell_type": "code",
      "source": [
        "learn.freeze()\n"
      ],
      "outputs": [],
      "execution_count": null,
      "metadata": {}
    },
    {
      "cell_type": "code",
      "source": [
        "lr=0.0001"
      ],
      "outputs": [],
      "execution_count": null,
      "metadata": {}
    },
    {
      "cell_type": "code",
      "source": [
        "learn.fit(lr, 3, cycle_len=1, cycle_mult=2, cycle_save_name='resnet50_299_pre')"
      ],
      "outputs": [],
      "execution_count": null,
      "metadata": {}
    },
    {
      "cell_type": "code",
      "source": [
        "lr = 0.00001\n",
        "lrf=learn.lr_find()\n",
        "learn.sched.plot()"
      ],
      "outputs": [],
      "execution_count": null,
      "metadata": {}
    },
    {
      "cell_type": "code",
      "source": [
        "learn.unfreeze()"
      ],
      "outputs": [],
      "execution_count": null,
      "metadata": {}
    },
    {
      "cell_type": "code",
      "source": [
        "lr = 0.001\n",
        "wd = 0.015\n",
        "learn.fit(lrs=[lr/100, lr/10,lr], n_cycle=3, wds=[wd/100, wd/10, wd], use_wd_sched=True, cycle_len=1, cycle_mult=2,cycle_save_name='resnet50_299_d' )"
      ],
      "outputs": [],
      "execution_count": null,
      "metadata": {}
    },
    {
      "cell_type": "markdown",
      "source": [
        "### Generating submission file"
      ],
      "metadata": {}
    },
    {
      "cell_type": "code",
      "source": [
        "#compute test time augmentations on the validation set, to get metric\n",
        "tta = learn.TTA()\n",
        "f2(*tta)"
      ],
      "outputs": [],
      "execution_count": 65,
      "metadata": {}
    },
    {
      "cell_type": "code",
      "source": [
        "#now get actual predictions\n",
        "log_preds, y = learn.TTA(is_test=True)"
      ],
      "outputs": [],
      "execution_count": 66,
      "metadata": {}
    },
    {
      "cell_type": "code",
      "source": [
        "log_preds.shape"
      ],
      "outputs": [],
      "execution_count": 67,
      "metadata": {}
    },
    {
      "cell_type": "code",
      "source": [
        "probs = np.mean(np.exp(log_preds), 0)\n",
        "print(probs.shape)"
      ],
      "outputs": [],
      "execution_count": 68,
      "metadata": {}
    },
    {
      "cell_type": "code",
      "source": [
        "len(probs)"
      ],
      "outputs": [],
      "execution_count": 69,
      "metadata": {}
    },
    {
      "cell_type": "code",
      "source": [
        "preds = np.argmax(probs, axis=1); preds.shape"
      ],
      "outputs": [],
      "execution_count": 70,
      "metadata": {}
    },
    {
      "cell_type": "code",
      "source": [
        "df2 = pd.DataFrame(probs)"
      ],
      "outputs": [],
      "execution_count": 72,
      "metadata": {}
    },
    {
      "cell_type": "code",
      "source": [
        "df2.columns = data.classes"
      ],
      "outputs": [],
      "execution_count": 74,
      "metadata": {}
    },
    {
      "cell_type": "code",
      "source": [
        "df2.insert(0, 'file', [o[5:] for o in data.test_ds.fnames])\n",
        "\n#or may need to read from directory:  test_fnames = read_dir(PATH, 'test-jpg')"
      ],
      "outputs": [],
      "execution_count": 76,
      "metadata": {}
    },
    {
      "cell_type": "code",
      "source": [
        "#don't need here\n",
        "mapp={}\n",
        "for i in range(1,13):\n",
        "    mapp[i] = ds2.columns[i]+' '\n",
        "print(mapp)"
      ],
      "outputs": [],
      "execution_count": null,
      "metadata": {}
    },
    {
      "cell_type": "code",
      "source": [
        "df2['species']= df2[['Black-grass','Charlock','Cleavers', 'Common Chickweed', \\\n",
        "                     'Common wheat','Fat Hen', 'Loose Silky-bent', 'Maize',\\\n",
        "                     'Scentless Mayweed','Shepherds Purse', \\\n",
        "                     'Small-flowered Cranesbill', 'Sugar beet']].idxmax(axis=1)"
      ],
      "outputs": [],
      "execution_count": 77,
      "metadata": {}
    },
    {
      "cell_type": "code",
      "source": [
        "df2.head()"
      ],
      "outputs": [],
      "execution_count": 78,
      "metadata": {}
    },
    {
      "cell_type": "code",
      "source": [
        "data.test_ds.fnames[0:2]"
      ],
      "outputs": [],
      "execution_count": 80,
      "metadata": {}
    },
    {
      "cell_type": "code",
      "source": [
        "df4 = df2.loc[:,['file','species']]"
      ],
      "outputs": [],
      "execution_count": 81,
      "metadata": {}
    },
    {
      "cell_type": "code",
      "source": [
        "df4.head()"
      ],
      "outputs": [],
      "execution_count": 82,
      "metadata": {}
    },
    {
      "cell_type": "code",
      "source": [
        "os.makedirs('subm', exist_ok=True)\n",
        "subm = f'{PATH}subm/'\n",
        "df4.to_csv(f'{subm}seedlings6.csv', index=False)  ##compression='gzip', index=False)"
      ],
      "outputs": [],
      "execution_count": 83,
      "metadata": {}
    },
    {
      "cell_type": "code",
      "source": [
        "FileLink(f'{subm}seedlings6.csv')\n",
        "#seedlings6 scored .97858; best so far is .97984"
      ],
      "outputs": [],
      "execution_count": 84,
      "metadata": {}
    }
  ],
  "metadata": {
    "kernelspec": {
      "name": "python3",
      "language": "python",
      "display_name": "Python 3"
    },
    "language_info": {
      "name": "python",
      "version": "3.6.3",
      "mimetype": "text/x-python",
      "codemirror_mode": {
        "name": "ipython",
        "version": 3
      },
      "pygments_lexer": "ipython3",
      "nbconvert_exporter": "python",
      "file_extension": ".py"
    },
    "kernel_info": {
      "name": "python3"
    }
  },
  "nbformat": 4,
  "nbformat_minor": 2
}